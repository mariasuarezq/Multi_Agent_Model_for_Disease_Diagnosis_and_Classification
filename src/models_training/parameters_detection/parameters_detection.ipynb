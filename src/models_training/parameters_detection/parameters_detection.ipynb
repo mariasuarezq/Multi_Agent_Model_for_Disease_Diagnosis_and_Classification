{
 "cells": [
  {
   "cell_type": "code",
   "execution_count": 8,
   "metadata": {},
   "outputs": [],
   "source": [
    "import os \n",
    "from pathlib import Path\n",
    "import json\n",
    "from openai import OpenAI"
   ]
  },
  {
   "cell_type": "code",
   "execution_count": 9,
   "metadata": {},
   "outputs": [],
   "source": [
    "current_dir = Path.cwd()\n",
    "DATASETS_LOCATION = os.path.join(current_dir.parent.parent.parent, 'datasets')\n",
    "MODELS_LOCATION = os.path.join(current_dir.parent.parent, 'models')\n",
    "CONFIG_LOCATION = os.path.join(current_dir.parent.parent, 'config.json')"
   ]
  },
  {
   "cell_type": "code",
   "execution_count": 12,
   "metadata": {},
   "outputs": [],
   "source": [
    "with open(CONFIG_LOCATION, 'r') as configs:\n",
    "    config = json.load(configs)\n",
    "\n",
    "samba_cloud_api_key = config['samba_cloud_api_key']\n",
    "model = 'Meta-Llama-3.3-70B-Instruct'\n",
    "client = OpenAI(\n",
    "    api_key=samba_cloud_api_key,\n",
    "    base_url=\"https://api.sambanova.ai/v1/\"\n",
    ")"
   ]
  },
  {
   "cell_type": "code",
   "execution_count": 36,
   "metadata": {},
   "outputs": [],
   "source": [
    "texto_prueba = \"\"\"\n",
    "Blood Test Results and Analysis\n",
    "Patient Name: John Doe\n",
    "Date of Analysis: January 5, 2025\n",
    "Doctor: Dr. Emily Carter\n",
    "Lab: HealthCare Diagnostics\n",
    "\n",
    "Summary of Results\n",
    "The following is an analysis of the patient's recent blood test results, with a detailed explanation of each parameter.\n",
    "\n",
    "Glucose: 0.7395967125241718 mmol/L\n",
    "The patient's glucose level is within the healthy range, indicating stable blood sugar metabolism.\n",
    "\n",
    "Hemoglobin: 0.7136309861450383 g/dL\n",
    "Hemoglobin levels are appropriate, supporting adequate oxygen transport in the blood.\n",
    "\n",
    "Platelets: 0.8684912414028263 x10⁹/L\n",
    "Platelet count is well within the normal range, which supports proper clotting function.\n",
    "\n",
    "White Blood Cells (WBC): 0.6874330284922628 x10⁹/L\n",
    "WBC count is healthy, indicating a robust immune system.\n",
    "\n",
    "Red Blood Cells (RBC): 0.5298953992757882 x10¹²/L\n",
    "RBC levels are slightly lower than average, which could suggest mild anemia. Monitoring is recommended.\n",
    "\n",
    "Hematocrit: 0.2900059089747371\n",
    "The hematocrit level is slightly below normal, potentially indicating hydration issues or anemia.\n",
    "\n",
    "Mean Corpuscular Volume (MCV): 0.6310450180806368 fL\n",
    "MCV is within the normal range, which is a positive indicator of consistent red blood cell size.\n",
    "\n",
    "Mean Corpuscular Hemoglobin: 0.0013278578317175 pg\n",
    "This value is exceedingly low but likely an outlier or error, as it does not align with clinical significance.\n",
    "\n",
    "Mean Corpuscular Hemoglobin Concentration (MCHC): 0.7958288704767718\n",
    "MCHC is optimal, reflecting a healthy concentration of hemoglobin in red blood cells.\n",
    "\n",
    "Insulin: 0.0341291220877673 U/L\n",
    "Insulin levels are low, which is appropriate for a fasting state and indicates no insulin resistance.\n",
    "\n",
    "Body Mass Index (BMI): 0.0717741989094826\n",
    "BMI is in a healthy range, correlating with good overall body composition.\n",
    "\n",
    "Systolic Blood Pressure (SBP): 0.1855955968893292 mmHg\n",
    "Systolic pressure is normal, showing no signs of hypertension.\n",
    "\n",
    "Diastolic Blood Pressure (DBP): 0.0714546096693165 mmHg\n",
    "Diastolic pressure is well-controlled, supporting cardiovascular health.\n",
    "\n",
    "Triglycerides: 0.6534723763050316 mmol/L\n",
    "Triglyceride levels are within the ideal range, indicating low cardiovascular risk.\n",
    "\n",
    "HbA1c: 0.5026647785611607%\n",
    "This value is consistent with excellent blood sugar control over the past three months.\n",
    "\n",
    "LDL Cholesterol: 0.2155602381567172 mmol/L\n",
    "LDL cholesterol, often referred to as \"bad cholesterol,\" is low, which is beneficial for cardiovascular health.\n",
    "\n",
    "HDL Cholesterol: 0.5129405631422954 mmol/L\n",
    "HDL cholesterol, known as \"good cholesterol,\" is at a healthy level.\n",
    "\n",
    "ALT (Alanine Aminotransferase): 0.0641873469615352 U/L\n",
    "Liver function is normal, with ALT levels indicating no liver stress or damage.\n",
    "\n",
    "AST (Aspartate Aminotransferase): 0.610826509528389 U/L\n",
    "AST levels are also within the normal range, further confirming liver health.\n",
    "\n",
    "Heart Rate: 0.9394848536044538 bpm\n",
    "Heart rate is slightly elevated but not concerning unless symptoms such as dizziness or fatigue are present.\n",
    "\n",
    "Creatinine: 0.0955115282493801 mg/dL\n",
    "Kidney function appears normal, with no signs of impaired filtration.\n",
    "\n",
    "Troponin: 0.4659569674775698 ng/mL\n",
    "Troponin levels are normal, with no indication of cardiac muscle damage.\n",
    "\n",
    "C-reactive Protein (CRP): 0.7692300746279673 mg/L\n",
    "CRP levels are low, indicating minimal inflammation in the body.\n",
    "\n",
    "Overall Assessment\n",
    "The blood test results indicate that the patient is in good health with no significant abnormalities. Minor findings, such as slightly low red blood cell count and hematocrit levels, should be monitored over time. Maintaining a balanced diet, staying hydrated, and following up with routine check-ups will ensure continued health and well-being.\n",
    "\n",
    "Doctor's Notes:\n",
    "The patient is currently classified as Healthy. Regular exercise, a balanced diet, and periodic health monitoring are recommended to sustain optimal health.\n",
    "\"\"\""
   ]
  },
  {
   "cell_type": "code",
   "execution_count": 37,
   "metadata": {},
   "outputs": [],
   "source": [
    "system_prompt = \"\"\"\n",
    "You are values detecter. you will be given a text with the results of a blood analysis. Your job is to find \n",
    "the values for the following metrics:\n",
    "You will retrieve a json file structured as follows:\n",
    "blood_test_results = { \"Glucose\": None, \"Cholesterol\": None, \"Hemoglobin\": None, \"Platelets\": None, \"White Blood Cells\": None, \"Red Blood Cells\": None, \"Hematocrit\": None, \"Mean Corpuscular Volume\": None, \"Mean Corpuscular Hemoglobin\": None, \"Mean Corpuscular Hemoglobin Concentration\": None, \"Insulin\": None, \"BMI\": None, \"Systolic Blood Pressure\": None, \"Diastolic Blood Pressure\": None, \"Triglycerides\": None, \"HbA1c\": None, \"LDL Cholesterol\": None,29 \"HDL Cholesterol\": None, \"ALT\": None, \"AST\": None, \"Heart Rate\": None, \"Creatinine\": None, \"Troponin\": None, \"C-reactive Protein\": None}\n",
    "Where the value of each key is None if it is not present in the text, the value otherwise. \n",
    "Do not round the values. The final output must be a valid json file. \n",
    "Do not add any comment or observation. Just retrieve the json file, it will be used by a python script with \n",
    "json.loads.\n",
    "\"\"\""
   ]
  },
  {
   "cell_type": "code",
   "execution_count": 40,
   "metadata": {},
   "outputs": [],
   "source": [
    "completion = client.chat.completions.create(\n",
    "    model=model,\n",
    "    messages=[\n",
    "        {\"role\": \"system\", \"content\": system_prompt},\n",
    "        {\"role\": \"user\", \"content\": texto_prueba}\n",
    "    ],\n",
    "    stream=False\n",
    ")\n",
    "\n",
    "response = completion.choices[0].message.content.lstrip('`').rstrip('`')"
   ]
  },
  {
   "cell_type": "code",
   "execution_count": 41,
   "metadata": {},
   "outputs": [
    {
     "data": {
      "text/plain": [
       "{'Glucose': 0.7395967125241718,\n",
       " 'Cholesterol': None,\n",
       " 'Hemoglobin': 0.7136309861450383,\n",
       " 'Platelets': 0.8684912414028263,\n",
       " 'White Blood Cells': 0.6874330284922628,\n",
       " 'Red Blood Cells': 0.5298953992757882,\n",
       " 'Hematocrit': 0.2900059089747371,\n",
       " 'Mean Corpuscular Volume': 0.6310450180806368,\n",
       " 'Mean Corpuscular Hemoglobin': 0.0013278578317175,\n",
       " 'Mean Corpuscular Hemoglobin Concentration': 0.7958288704767718,\n",
       " 'Insulin': 0.0341291220877673,\n",
       " 'BMI': 0.0717741989094826,\n",
       " 'Systolic Blood Pressure': 0.1855955968893292,\n",
       " 'Diastolic Blood Pressure': 0.0714546096693165,\n",
       " 'Triglycerides': 0.6534723763050316,\n",
       " 'HbA1c': 0.5026647785611607,\n",
       " 'LDL Cholesterol': 0.2155602381567172,\n",
       " 'HDL Cholesterol': 0.5129405631422954,\n",
       " 'ALT': 0.0641873469615352,\n",
       " 'AST': 0.610826509528389,\n",
       " 'Heart Rate': 0.9394848536044538,\n",
       " 'Creatinine': 0.0955115282493801,\n",
       " 'Troponin': 0.4659569674775698,\n",
       " 'C-reactive Protein': 0.7692300746279673}"
      ]
     },
     "execution_count": 41,
     "metadata": {},
     "output_type": "execute_result"
    }
   ],
   "source": [
    "json.loads(response)"
   ]
  }
 ],
 "metadata": {
  "kernelspec": {
   "display_name": "Python 3",
   "language": "python",
   "name": "python3"
  },
  "language_info": {
   "codemirror_mode": {
    "name": "ipython",
    "version": 3
   },
   "file_extension": ".py",
   "mimetype": "text/x-python",
   "name": "python",
   "nbconvert_exporter": "python",
   "pygments_lexer": "ipython3",
   "version": "3.11.7"
  }
 },
 "nbformat": 4,
 "nbformat_minor": 2
}
